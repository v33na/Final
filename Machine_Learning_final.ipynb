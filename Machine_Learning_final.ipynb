{
  "nbformat": 4,
  "nbformat_minor": 0,
  "metadata": {
    "colab": {
      "name": "Machine_Learning_final.ipynb",
      "provenance": [],
      "collapsed_sections": [],
      "toc_visible": true
    },
    "kernelspec": {
      "display_name": "Python 3",
      "language": "python",
      "name": "python3"
    },
    "language_info": {
      "codemirror_mode": {
        "name": "ipython",
        "version": 3
      },
      "file_extension": ".py",
      "mimetype": "text/x-python",
      "name": "python",
      "nbconvert_exporter": "python",
      "pygments_lexer": "ipython3",
      "version": "3.7.3"
    }
  },
  "cells": [
    {
      "cell_type": "code",
      "metadata": {
        "colab_type": "code",
        "id": "tq--89Ugs8UC",
        "colab": {}
      },
      "source": [
        "import numpy as np\n",
        "import csv\n",
        "import json\n",
        "import matplotlib.pyplot as plt; plt.rcdefaults()\n",
        "import matplotlib.pyplot as plt\n",
        "import matplotlib.pyplot as mlp\n",
        "import pandas as pd\n",
        "from pandas import DataFrame\n",
        "from sqlalchemy import create_engine"
      ],
      "execution_count": 0,
      "outputs": []
    },
    {
      "cell_type": "code",
      "metadata": {
        "colab_type": "code",
        "id": "9FWnykKbM7Dg",
        "colab": {}
      },
      "source": [
        ""
      ],
      "execution_count": 0,
      "outputs": []
    },
    {
      "cell_type": "markdown",
      "metadata": {
        "colab_type": "text",
        "id": "G4fGZzP7ninP"
      },
      "source": [
        ""
      ]
    },
    {
      "cell_type": "code",
      "metadata": {
        "colab_type": "code",
        "id": "wKQVU1F-s8U2",
        "outputId": "40dad464-2333-48ce-cd53-c83926039687",
        "colab": {
          "base_uri": "https://localhost:8080/",
          "height": 341
        }
      },
      "source": [
        "spotify_ML = pd.read_csv(\"patrick_spotify_list.csv\")\n",
        "# spotify_song_list = spotify_ML[spotify_ML['song_popularity']>89]\n",
        "spotify_ML.head()"
      ],
      "execution_count": 90,
      "outputs": [
        {
          "output_type": "execute_result",
          "data": {
            "text/html": [
              "<div>\n",
              "<style scoped>\n",
              "    .dataframe tbody tr th:only-of-type {\n",
              "        vertical-align: middle;\n",
              "    }\n",
              "\n",
              "    .dataframe tbody tr th {\n",
              "        vertical-align: top;\n",
              "    }\n",
              "\n",
              "    .dataframe thead th {\n",
              "        text-align: right;\n",
              "    }\n",
              "</style>\n",
              "<table border=\"1\" class=\"dataframe\">\n",
              "  <thead>\n",
              "    <tr style=\"text-align: right;\">\n",
              "      <th></th>\n",
              "      <th>song_popularity</th>\n",
              "      <th>song_duration_ms</th>\n",
              "      <th>acousticness</th>\n",
              "      <th>danceability</th>\n",
              "      <th>energy</th>\n",
              "      <th>instrumentalness</th>\n",
              "      <th>key</th>\n",
              "      <th>liveness</th>\n",
              "      <th>loudness</th>\n",
              "      <th>audio_mode</th>\n",
              "      <th>speechiness</th>\n",
              "      <th>tempo</th>\n",
              "      <th>time_signature</th>\n",
              "      <th>audio_valence</th>\n",
              "      <th>album_names</th>\n",
              "      <th>playlist</th>\n",
              "      <th>Artist_and_Track_Name</th>\n",
              "    </tr>\n",
              "  </thead>\n",
              "  <tbody>\n",
              "    <tr>\n",
              "      <th>0</th>\n",
              "      <td>74</td>\n",
              "      <td>216933</td>\n",
              "      <td>0.026400</td>\n",
              "      <td>0.451</td>\n",
              "      <td>0.970</td>\n",
              "      <td>0.003550</td>\n",
              "      <td>0</td>\n",
              "      <td>0.1020</td>\n",
              "      <td>-4.938</td>\n",
              "      <td>1</td>\n",
              "      <td>0.1070</td>\n",
              "      <td>122.444</td>\n",
              "      <td>4</td>\n",
              "      <td>0.198</td>\n",
              "      <td>By The Way (Deluxe Version)</td>\n",
              "      <td>00s Rock Anthems</td>\n",
              "      <td>Red Hot Chili Peppers - By The Way</td>\n",
              "    </tr>\n",
              "    <tr>\n",
              "      <th>1</th>\n",
              "      <td>81</td>\n",
              "      <td>199893</td>\n",
              "      <td>0.000504</td>\n",
              "      <td>0.581</td>\n",
              "      <td>0.887</td>\n",
              "      <td>0.001110</td>\n",
              "      <td>4</td>\n",
              "      <td>0.2680</td>\n",
              "      <td>-3.659</td>\n",
              "      <td>0</td>\n",
              "      <td>0.0624</td>\n",
              "      <td>90.578</td>\n",
              "      <td>4</td>\n",
              "      <td>0.724</td>\n",
              "      <td>Infest</td>\n",
              "      <td>00s Rock Anthems</td>\n",
              "      <td>Papa Roach - Last Resort</td>\n",
              "    </tr>\n",
              "    <tr>\n",
              "      <th>2</th>\n",
              "      <td>81</td>\n",
              "      <td>269000</td>\n",
              "      <td>0.017900</td>\n",
              "      <td>0.618</td>\n",
              "      <td>0.938</td>\n",
              "      <td>0.000000</td>\n",
              "      <td>9</td>\n",
              "      <td>0.1670</td>\n",
              "      <td>-3.442</td>\n",
              "      <td>1</td>\n",
              "      <td>0.0456</td>\n",
              "      <td>91.455</td>\n",
              "      <td>4</td>\n",
              "      <td>0.875</td>\n",
              "      <td>By The Way (Deluxe Version)</td>\n",
              "      <td>00s Rock Anthems</td>\n",
              "      <td>Red Hot Chili Peppers - Can't Stop</td>\n",
              "    </tr>\n",
              "    <tr>\n",
              "      <th>3</th>\n",
              "      <td>71</td>\n",
              "      <td>227240</td>\n",
              "      <td>0.001360</td>\n",
              "      <td>0.659</td>\n",
              "      <td>0.778</td>\n",
              "      <td>0.000007</td>\n",
              "      <td>11</td>\n",
              "      <td>0.0841</td>\n",
              "      <td>-6.423</td>\n",
              "      <td>1</td>\n",
              "      <td>0.0379</td>\n",
              "      <td>110.022</td>\n",
              "      <td>4</td>\n",
              "      <td>0.623</td>\n",
              "      <td>blink-182</td>\n",
              "      <td>00s Rock Anthems</td>\n",
              "      <td>blink-182 - I Miss You</td>\n",
              "    </tr>\n",
              "    <tr>\n",
              "      <th>4</th>\n",
              "      <td>62</td>\n",
              "      <td>256600</td>\n",
              "      <td>0.007010</td>\n",
              "      <td>0.370</td>\n",
              "      <td>0.944</td>\n",
              "      <td>0.000003</td>\n",
              "      <td>1</td>\n",
              "      <td>0.1350</td>\n",
              "      <td>-4.979</td>\n",
              "      <td>0</td>\n",
              "      <td>0.0767</td>\n",
              "      <td>130.315</td>\n",
              "      <td>4</td>\n",
              "      <td>0.345</td>\n",
              "      <td>Best Of You</td>\n",
              "      <td>00s Rock Anthems</td>\n",
              "      <td>Foo Fighters - Best of You</td>\n",
              "    </tr>\n",
              "  </tbody>\n",
              "</table>\n",
              "</div>"
            ],
            "text/plain": [
              "   song_popularity  ...               Artist_and_Track_Name\n",
              "0               74  ...  Red Hot Chili Peppers - By The Way\n",
              "1               81  ...            Papa Roach - Last Resort\n",
              "2               81  ...  Red Hot Chili Peppers - Can't Stop\n",
              "3               71  ...              blink-182 - I Miss You\n",
              "4               62  ...          Foo Fighters - Best of You\n",
              "\n",
              "[5 rows x 17 columns]"
            ]
          },
          "metadata": {
            "tags": []
          },
          "execution_count": 90
        }
      ]
    },
    {
      "cell_type": "code",
      "metadata": {
        "colab_type": "code",
        "id": "nCOz3wUds8Vs",
        "outputId": "058652b6-90d0-471b-f1d1-c6d651860101",
        "colab": {
          "base_uri": "https://localhost:8080/",
          "height": 201
        }
      },
      "source": [
        "songs1 = spotify_ML.drop(['playlist','song_popularity','song_duration_ms',\n",
        "                          'energy','instrumentalness','key','audio_mode','tempo','time_signature',\n",
        "                          'audio_valence', 'album_names', 'Artist_and_Track_Name'], axis=1)\n",
        " \n",
        "songs1.head()"
      ],
      "execution_count": 91,
      "outputs": [
        {
          "output_type": "execute_result",
          "data": {
            "text/html": [
              "<div>\n",
              "<style scoped>\n",
              "    .dataframe tbody tr th:only-of-type {\n",
              "        vertical-align: middle;\n",
              "    }\n",
              "\n",
              "    .dataframe tbody tr th {\n",
              "        vertical-align: top;\n",
              "    }\n",
              "\n",
              "    .dataframe thead th {\n",
              "        text-align: right;\n",
              "    }\n",
              "</style>\n",
              "<table border=\"1\" class=\"dataframe\">\n",
              "  <thead>\n",
              "    <tr style=\"text-align: right;\">\n",
              "      <th></th>\n",
              "      <th>acousticness</th>\n",
              "      <th>danceability</th>\n",
              "      <th>liveness</th>\n",
              "      <th>loudness</th>\n",
              "      <th>speechiness</th>\n",
              "    </tr>\n",
              "  </thead>\n",
              "  <tbody>\n",
              "    <tr>\n",
              "      <th>0</th>\n",
              "      <td>0.026400</td>\n",
              "      <td>0.451</td>\n",
              "      <td>0.1020</td>\n",
              "      <td>-4.938</td>\n",
              "      <td>0.1070</td>\n",
              "    </tr>\n",
              "    <tr>\n",
              "      <th>1</th>\n",
              "      <td>0.000504</td>\n",
              "      <td>0.581</td>\n",
              "      <td>0.2680</td>\n",
              "      <td>-3.659</td>\n",
              "      <td>0.0624</td>\n",
              "    </tr>\n",
              "    <tr>\n",
              "      <th>2</th>\n",
              "      <td>0.017900</td>\n",
              "      <td>0.618</td>\n",
              "      <td>0.1670</td>\n",
              "      <td>-3.442</td>\n",
              "      <td>0.0456</td>\n",
              "    </tr>\n",
              "    <tr>\n",
              "      <th>3</th>\n",
              "      <td>0.001360</td>\n",
              "      <td>0.659</td>\n",
              "      <td>0.0841</td>\n",
              "      <td>-6.423</td>\n",
              "      <td>0.0379</td>\n",
              "    </tr>\n",
              "    <tr>\n",
              "      <th>4</th>\n",
              "      <td>0.007010</td>\n",
              "      <td>0.370</td>\n",
              "      <td>0.1350</td>\n",
              "      <td>-4.979</td>\n",
              "      <td>0.0767</td>\n",
              "    </tr>\n",
              "  </tbody>\n",
              "</table>\n",
              "</div>"
            ],
            "text/plain": [
              "   acousticness  danceability  liveness  loudness  speechiness\n",
              "0      0.026400         0.451    0.1020    -4.938       0.1070\n",
              "1      0.000504         0.581    0.2680    -3.659       0.0624\n",
              "2      0.017900         0.618    0.1670    -3.442       0.0456\n",
              "3      0.001360         0.659    0.0841    -6.423       0.0379\n",
              "4      0.007010         0.370    0.1350    -4.979       0.0767"
            ]
          },
          "metadata": {
            "tags": []
          },
          "execution_count": 91
        }
      ]
    },
    {
      "cell_type": "code",
      "metadata": {
        "colab_type": "code",
        "id": "cFIQW2u4vRHZ",
        "outputId": "4ee76911-cfe0-443b-feb0-1c0741837d6a",
        "colab": {
          "base_uri": "https://localhost:8080/",
          "height": 293
        }
      },
      "source": [
        "songs1.describe()"
      ],
      "execution_count": 92,
      "outputs": [
        {
          "output_type": "execute_result",
          "data": {
            "text/html": [
              "<div>\n",
              "<style scoped>\n",
              "    .dataframe tbody tr th:only-of-type {\n",
              "        vertical-align: middle;\n",
              "    }\n",
              "\n",
              "    .dataframe tbody tr th {\n",
              "        vertical-align: top;\n",
              "    }\n",
              "\n",
              "    .dataframe thead th {\n",
              "        text-align: right;\n",
              "    }\n",
              "</style>\n",
              "<table border=\"1\" class=\"dataframe\">\n",
              "  <thead>\n",
              "    <tr style=\"text-align: right;\">\n",
              "      <th></th>\n",
              "      <th>acousticness</th>\n",
              "      <th>danceability</th>\n",
              "      <th>liveness</th>\n",
              "      <th>loudness</th>\n",
              "      <th>speechiness</th>\n",
              "    </tr>\n",
              "  </thead>\n",
              "  <tbody>\n",
              "    <tr>\n",
              "      <th>count</th>\n",
              "      <td>2543.000000</td>\n",
              "      <td>2543.000000</td>\n",
              "      <td>2543.000000</td>\n",
              "      <td>2543.000000</td>\n",
              "      <td>2543.000000</td>\n",
              "    </tr>\n",
              "    <tr>\n",
              "      <th>mean</th>\n",
              "      <td>0.170845</td>\n",
              "      <td>0.675608</td>\n",
              "      <td>0.190844</td>\n",
              "      <td>-6.391571</td>\n",
              "      <td>0.124985</td>\n",
              "    </tr>\n",
              "    <tr>\n",
              "      <th>std</th>\n",
              "      <td>0.214172</td>\n",
              "      <td>0.154222</td>\n",
              "      <td>0.153067</td>\n",
              "      <td>2.571563</td>\n",
              "      <td>0.111489</td>\n",
              "    </tr>\n",
              "    <tr>\n",
              "      <th>min</th>\n",
              "      <td>0.000004</td>\n",
              "      <td>0.130000</td>\n",
              "      <td>0.021500</td>\n",
              "      <td>-26.401000</td>\n",
              "      <td>0.023600</td>\n",
              "    </tr>\n",
              "    <tr>\n",
              "      <th>25%</th>\n",
              "      <td>0.019200</td>\n",
              "      <td>0.571500</td>\n",
              "      <td>0.094700</td>\n",
              "      <td>-7.832000</td>\n",
              "      <td>0.043400</td>\n",
              "    </tr>\n",
              "    <tr>\n",
              "      <th>50%</th>\n",
              "      <td>0.077600</td>\n",
              "      <td>0.686000</td>\n",
              "      <td>0.127000</td>\n",
              "      <td>-5.942000</td>\n",
              "      <td>0.071300</td>\n",
              "    </tr>\n",
              "    <tr>\n",
              "      <th>75%</th>\n",
              "      <td>0.246500</td>\n",
              "      <td>0.791000</td>\n",
              "      <td>0.249000</td>\n",
              "      <td>-4.541500</td>\n",
              "      <td>0.186500</td>\n",
              "    </tr>\n",
              "    <tr>\n",
              "      <th>max</th>\n",
              "      <td>0.994000</td>\n",
              "      <td>0.980000</td>\n",
              "      <td>0.922000</td>\n",
              "      <td>-0.737000</td>\n",
              "      <td>0.826000</td>\n",
              "    </tr>\n",
              "  </tbody>\n",
              "</table>\n",
              "</div>"
            ],
            "text/plain": [
              "       acousticness  danceability     liveness     loudness  speechiness\n",
              "count   2543.000000   2543.000000  2543.000000  2543.000000  2543.000000\n",
              "mean       0.170845      0.675608     0.190844    -6.391571     0.124985\n",
              "std        0.214172      0.154222     0.153067     2.571563     0.111489\n",
              "min        0.000004      0.130000     0.021500   -26.401000     0.023600\n",
              "25%        0.019200      0.571500     0.094700    -7.832000     0.043400\n",
              "50%        0.077600      0.686000     0.127000    -5.942000     0.071300\n",
              "75%        0.246500      0.791000     0.249000    -4.541500     0.186500\n",
              "max        0.994000      0.980000     0.922000    -0.737000     0.826000"
            ]
          },
          "metadata": {
            "tags": []
          },
          "execution_count": 92
        }
      ]
    },
    {
      "cell_type": "code",
      "metadata": {
        "colab_type": "code",
        "id": "kEYDLQgCwDgf",
        "colab": {}
      },
      "source": [
        "from sklearn import preprocessing\n",
        "loudness = songs1[['loudness']].values\n",
        "min_max_scaler = preprocessing.MinMaxScaler()\n",
        "loudness_scaled = min_max_scaler.fit_transform(loudness)\n",
        "songs1['loudness'] = pd.DataFrame(loudness_scaled)"
      ],
      "execution_count": 0,
      "outputs": []
    },
    {
      "cell_type": "code",
      "metadata": {
        "colab_type": "code",
        "id": "bcP28-0Kt22s",
        "colab": {}
      },
      "source": [
        "songs_features = songs1.copy()"
      ],
      "execution_count": 0,
      "outputs": []
    },
    {
      "cell_type": "code",
      "metadata": {
        "colab_type": "code",
        "id": "yWbaE8-ks8Ws",
        "colab": {}
      },
      "source": [
        "from sklearn.cluster import KMeans\n",
        "\n",
        "Sum_of_squared_distances = []\n",
        "K = range(1,15)\n",
        "for k in K:\n",
        "    km = KMeans(n_clusters=k)\n",
        "    km = km.fit(songs_features)\n",
        "    Sum_of_squared_distances.append(km.inertia_)"
      ],
      "execution_count": 0,
      "outputs": []
    },
    {
      "cell_type": "code",
      "metadata": {
        "colab_type": "code",
        "id": "O98i-zRGuCEp",
        "outputId": "3e6ec4f8-3271-405e-8bb9-4f8468cf0380",
        "colab": {
          "base_uri": "https://localhost:8080/",
          "height": 472
        }
      },
      "source": [
        "plt.plot(K, Sum_of_squared_distances, 'gx-')\n",
        "plt.xlabel('k')\n",
        "plt.ylabel('Sum_of_squared_distances')\n",
        "plt.title('Elbow Method For Optimal k')\n",
        "plt.show()"
      ],
      "execution_count": 96,
      "outputs": [
        {
          "output_type": "display_data",
          "data": {
            "image/png": "[encoded data removed]",
            "text/plain": [
              "<Figure size 640x480 with 1 Axes>"
            ]
          },
          "metadata": {
            "tags": []
          }
        }
      ]
    },
    {
      "cell_type": "code",
      "metadata": {
        "colab_type": "code",
        "id": "_1UthJx8uGEx",
        "outputId": "b87e696c-0a59-4ea5-d0f1-098b8b822b95",
        "colab": {
          "base_uri": "https://localhost:8080/",
          "height": 69
        }
      },
      "source": [
        "kmeans = KMeans(n_clusters=3)\n",
        "kmeans.fit(songs_features)"
      ],
      "execution_count": 103,
      "outputs": [
        {
          "output_type": "execute_result",
          "data": {
            "text/plain": [
              "KMeans(algorithm='auto', copy_x=True, init='k-means++', max_iter=300,\n",
              "       n_clusters=3, n_init=10, n_jobs=None, precompute_distances='auto',\n",
              "       random_state=None, tol=0.0001, verbose=0)"
            ]
          },
          "metadata": {
            "tags": []
          },
          "execution_count": 103
        }
      ]
    },
    {
      "cell_type": "code",
      "metadata": {
        "colab_type": "code",
        "id": "xp3gJOIbuvOu",
        "colab": {}
      },
      "source": [
        "from sklearn.decomposition import PCA\n",
        "y_kmeans = kmeans.predict(songs_features)\n",
        "pca = PCA(n_components=2)\n",
        "principal_components = pca.fit_transform(songs_features)"
      ],
      "execution_count": 0,
      "outputs": []
    },
    {
      "cell_type": "code",
      "metadata": {
        "colab_type": "code",
        "id": "946IVNHGuzEB",
        "outputId": "3c193a4a-d677-47bb-b1c2-a6d94dd47a5c",
        "colab": {
          "base_uri": "https://localhost:8080/",
          "height": 558
        }
      },
      "source": [
        "import seaborn as sns\n",
        "\n",
        "pc = pd.DataFrame(principal_components)\n",
        "pc['label'] = y_kmeans\n",
        "pc.columns = ['x', 'y','label']\n",
        "\n",
        "#plot data with seaborn\n",
        "cluster = sns.lmplot(data=pc, x='x', y='y', hue='label', \n",
        "                   fit_reg=False, legend=True, legend_out=True)\n",
        "\n",
        "centroids = kmeans.cluster_centers_\n",
        "print(centroids)"
      ],
      "execution_count": 105,
      "outputs": [
        {
          "output_type": "stream",
          "text": [
            "[[0.08983011 0.70251446 0.12507742 0.7877423  0.13175957]\n",
            " [0.58277616 0.60588078 0.15481849 0.70953395 0.08583431]\n",
            " [0.0965768  0.64589152 0.43084024 0.81064889 0.13500769]]\n"
          ],
          "name": "stdout"
        },
        {
          "output_type": "display_data",
          "data": {
            "image/png": "[encoded data removed]",
            "text/plain": [
              "<Figure size 558.875x500 with 1 Axes>"
            ]
          },
          "metadata": {
            "tags": []
          }
        }
      ]
    },
    {
      "cell_type": "code",
      "metadata": {
        "colab_type": "code",
        "id": "botQr1Y80h_q",
        "outputId": "41f1029c-dc90-4330-ad0b-39a4f480be5a",
        "colab": {
          "base_uri": "https://localhost:8080/",
          "height": 34
        }
      },
      "source": [
        "pca.explained_variance_ratio_"
      ],
      "execution_count": 106,
      "outputs": [
        {
          "output_type": "execute_result",
          "data": {
            "text/plain": [
              "array([0.42370923, 0.22239433])"
            ]
          },
          "metadata": {
            "tags": []
          },
          "execution_count": 106
        }
      ]
    },
    {
      "cell_type": "code",
      "metadata": {
        "colab_type": "code",
        "id": "oL97DBuu0rWQ",
        "outputId": "45481505-ae14-4192-cf31-7cd733c89d86",
        "colab": {
          "base_uri": "https://localhost:8080/",
          "height": 69
        }
      },
      "source": [
        "print (pd.DataFrame(pca.components_,columns=songs_features.columns,index = ['PC-1','PC-2']))"
      ],
      "execution_count": 107,
      "outputs": [
        {
          "output_type": "stream",
          "text": [
            "      acousticness  danceability  liveness  loudness  speechiness\n",
            "PC-1      0.948639     -0.213998 -0.075219 -0.191782    -0.108857\n",
            "PC-2     -0.111149     -0.714670  0.677200  0.052747    -0.124538\n"
          ],
          "name": "stdout"
        }
      ]
    },
    {
      "cell_type": "code",
      "metadata": {
        "colab_type": "code",
        "id": "G25T7d080zsy",
        "outputId": "488699f7-89af-4544-d9b0-ff01cdb355d8",
        "colab": {
          "base_uri": "https://localhost:8080/",
          "height": 86
        }
      },
      "source": [
        "songs1['label'] = y_kmeans\n",
        "\n",
        "# shuffle dataset\n",
        "\n",
        "songs1 = songs1.sample(frac=1)\n",
        "songs1['label'].value_counts()"
      ],
      "execution_count": 108,
      "outputs": [
        {
          "output_type": "execute_result",
          "data": {
            "text/plain": [
              "0    1625\n",
              "2     507\n",
              "1     411\n",
              "Name: label, dtype: int64"
            ]
          },
          "metadata": {
            "tags": []
          },
          "execution_count": 108
        }
      ]
    },
    {
      "cell_type": "code",
      "metadata": {
        "colab_type": "code",
        "id": "7vldOZFh04jl",
        "outputId": "470ba688-ea9d-4418-d2c6-6edeca750eec",
        "colab": {
          "base_uri": "https://localhost:8080/",
          "height": 393
        }
      },
      "source": [
        "spotify_ML[songs1['label'] == 0].head()\n",
        "\n",
        "#Chill and Dance/Energetic\n"
      ],
      "execution_count": 113,
      "outputs": [
        {
          "output_type": "stream",
          "text": [
            "/usr/local/lib/python3.6/dist-packages/ipykernel_launcher.py:1: UserWarning: Boolean Series key will be reindexed to match DataFrame index.\n",
            "  \"\"\"Entry point for launching an IPython kernel.\n"
          ],
          "name": "stderr"
        },
        {
          "output_type": "execute_result",
          "data": {
            "text/html": [
              "<div>\n",
              "<style scoped>\n",
              "    .dataframe tbody tr th:only-of-type {\n",
              "        vertical-align: middle;\n",
              "    }\n",
              "\n",
              "    .dataframe tbody tr th {\n",
              "        vertical-align: top;\n",
              "    }\n",
              "\n",
              "    .dataframe thead th {\n",
              "        text-align: right;\n",
              "    }\n",
              "</style>\n",
              "<table border=\"1\" class=\"dataframe\">\n",
              "  <thead>\n",
              "    <tr style=\"text-align: right;\">\n",
              "      <th></th>\n",
              "      <th>song_popularity</th>\n",
              "      <th>song_duration_ms</th>\n",
              "      <th>acousticness</th>\n",
              "      <th>danceability</th>\n",
              "      <th>energy</th>\n",
              "      <th>instrumentalness</th>\n",
              "      <th>key</th>\n",
              "      <th>liveness</th>\n",
              "      <th>loudness</th>\n",
              "      <th>audio_mode</th>\n",
              "      <th>speechiness</th>\n",
              "      <th>tempo</th>\n",
              "      <th>time_signature</th>\n",
              "      <th>audio_valence</th>\n",
              "      <th>album_names</th>\n",
              "      <th>playlist</th>\n",
              "      <th>Artist_and_Track_Name</th>\n",
              "    </tr>\n",
              "  </thead>\n",
              "  <tbody>\n",
              "    <tr>\n",
              "      <th>0</th>\n",
              "      <td>74</td>\n",
              "      <td>216933</td>\n",
              "      <td>0.02640</td>\n",
              "      <td>0.451</td>\n",
              "      <td>0.970</td>\n",
              "      <td>0.003550</td>\n",
              "      <td>0</td>\n",
              "      <td>0.1020</td>\n",
              "      <td>-4.938</td>\n",
              "      <td>1</td>\n",
              "      <td>0.1070</td>\n",
              "      <td>122.444</td>\n",
              "      <td>4</td>\n",
              "      <td>0.198</td>\n",
              "      <td>By The Way (Deluxe Version)</td>\n",
              "      <td>00s Rock Anthems</td>\n",
              "      <td>Red Hot Chili Peppers - By The Way</td>\n",
              "    </tr>\n",
              "    <tr>\n",
              "      <th>2</th>\n",
              "      <td>81</td>\n",
              "      <td>269000</td>\n",
              "      <td>0.01790</td>\n",
              "      <td>0.618</td>\n",
              "      <td>0.938</td>\n",
              "      <td>0.000000</td>\n",
              "      <td>9</td>\n",
              "      <td>0.1670</td>\n",
              "      <td>-3.442</td>\n",
              "      <td>1</td>\n",
              "      <td>0.0456</td>\n",
              "      <td>91.455</td>\n",
              "      <td>4</td>\n",
              "      <td>0.875</td>\n",
              "      <td>By The Way (Deluxe Version)</td>\n",
              "      <td>00s Rock Anthems</td>\n",
              "      <td>Red Hot Chili Peppers - Can't Stop</td>\n",
              "    </tr>\n",
              "    <tr>\n",
              "      <th>3</th>\n",
              "      <td>71</td>\n",
              "      <td>227240</td>\n",
              "      <td>0.00136</td>\n",
              "      <td>0.659</td>\n",
              "      <td>0.778</td>\n",
              "      <td>0.000007</td>\n",
              "      <td>11</td>\n",
              "      <td>0.0841</td>\n",
              "      <td>-6.423</td>\n",
              "      <td>1</td>\n",
              "      <td>0.0379</td>\n",
              "      <td>110.022</td>\n",
              "      <td>4</td>\n",
              "      <td>0.623</td>\n",
              "      <td>blink-182</td>\n",
              "      <td>00s Rock Anthems</td>\n",
              "      <td>blink-182 - I Miss You</td>\n",
              "    </tr>\n",
              "    <tr>\n",
              "      <th>4</th>\n",
              "      <td>62</td>\n",
              "      <td>256600</td>\n",
              "      <td>0.00701</td>\n",
              "      <td>0.370</td>\n",
              "      <td>0.944</td>\n",
              "      <td>0.000003</td>\n",
              "      <td>1</td>\n",
              "      <td>0.1350</td>\n",
              "      <td>-4.979</td>\n",
              "      <td>0</td>\n",
              "      <td>0.0767</td>\n",
              "      <td>130.315</td>\n",
              "      <td>4</td>\n",
              "      <td>0.345</td>\n",
              "      <td>Best Of You</td>\n",
              "      <td>00s Rock Anthems</td>\n",
              "      <td>Foo Fighters - Best of You</td>\n",
              "    </tr>\n",
              "    <tr>\n",
              "      <th>5</th>\n",
              "      <td>77</td>\n",
              "      <td>187613</td>\n",
              "      <td>0.09380</td>\n",
              "      <td>0.567</td>\n",
              "      <td>0.795</td>\n",
              "      <td>0.000000</td>\n",
              "      <td>9</td>\n",
              "      <td>0.1140</td>\n",
              "      <td>-4.985</td>\n",
              "      <td>0</td>\n",
              "      <td>0.1340</td>\n",
              "      <td>170.060</td>\n",
              "      <td>4</td>\n",
              "      <td>0.635</td>\n",
              "      <td>A Fever You Can't Sweat Out</td>\n",
              "      <td>00s Rock Anthems</td>\n",
              "      <td>Panic! At The Disco - I Write Sins Not Tragedies</td>\n",
              "    </tr>\n",
              "  </tbody>\n",
              "</table>\n",
              "</div>"
            ],
            "text/plain": [
              "   song_popularity  ...                             Artist_and_Track_Name\n",
              "0               74  ...                Red Hot Chili Peppers - By The Way\n",
              "2               81  ...                Red Hot Chili Peppers - Can't Stop\n",
              "3               71  ...                            blink-182 - I Miss You\n",
              "4               62  ...                        Foo Fighters - Best of You\n",
              "5               77  ...  Panic! At The Disco - I Write Sins Not Tragedies\n",
              "\n",
              "[5 rows x 17 columns]"
            ]
          },
          "metadata": {
            "tags": []
          },
          "execution_count": 113
        }
      ]
    },
    {
      "cell_type": "code",
      "metadata": {
        "id": "2vg3uzko0VwM",
        "colab_type": "code",
        "colab": {
          "base_uri": "https://localhost:8080/",
          "height": 138
        },
        "outputId": "9bfe4078-43e6-400f-bb1b-70e74bbf5101"
      },
      "source": [
        "songs1[songs1['label'] == 0].mean()"
      ],
      "execution_count": 114,
      "outputs": [
        {
          "output_type": "execute_result",
          "data": {
            "text/plain": [
              "acousticness    0.089830\n",
              "danceability    0.702514\n",
              "liveness        0.125077\n",
              "loudness        0.787742\n",
              "speechiness     0.131760\n",
              "label           0.000000\n",
              "dtype: float64"
            ]
          },
          "metadata": {
            "tags": []
          },
          "execution_count": 114
        }
      ]
    },
    {
      "cell_type": "code",
      "metadata": {
        "colab_type": "code",
        "id": "xoEWo73909QO",
        "outputId": "0a7b261b-fb0e-4a20-a35d-8308d0dcc74c",
        "colab": {
          "base_uri": "https://localhost:8080/",
          "height": 376
        }
      },
      "source": [
        "\n",
        "spotify_ML[songs1['label'] == 1].head()\n",
        "\n"
      ],
      "execution_count": 115,
      "outputs": [
        {
          "output_type": "stream",
          "text": [
            "/usr/local/lib/python3.6/dist-packages/ipykernel_launcher.py:2: UserWarning: Boolean Series key will be reindexed to match DataFrame index.\n",
            "  \n"
          ],
          "name": "stderr"
        },
        {
          "output_type": "execute_result",
          "data": {
            "text/html": [
              "<div>\n",
              "<style scoped>\n",
              "    .dataframe tbody tr th:only-of-type {\n",
              "        vertical-align: middle;\n",
              "    }\n",
              "\n",
              "    .dataframe tbody tr th {\n",
              "        vertical-align: top;\n",
              "    }\n",
              "\n",
              "    .dataframe thead th {\n",
              "        text-align: right;\n",
              "    }\n",
              "</style>\n",
              "<table border=\"1\" class=\"dataframe\">\n",
              "  <thead>\n",
              "    <tr style=\"text-align: right;\">\n",
              "      <th></th>\n",
              "      <th>song_popularity</th>\n",
              "      <th>song_duration_ms</th>\n",
              "      <th>acousticness</th>\n",
              "      <th>danceability</th>\n",
              "      <th>energy</th>\n",
              "      <th>instrumentalness</th>\n",
              "      <th>key</th>\n",
              "      <th>liveness</th>\n",
              "      <th>loudness</th>\n",
              "      <th>audio_mode</th>\n",
              "      <th>speechiness</th>\n",
              "      <th>tempo</th>\n",
              "      <th>time_signature</th>\n",
              "      <th>audio_valence</th>\n",
              "      <th>album_names</th>\n",
              "      <th>playlist</th>\n",
              "      <th>Artist_and_Track_Name</th>\n",
              "    </tr>\n",
              "  </thead>\n",
              "  <tbody>\n",
              "    <tr>\n",
              "      <th>6</th>\n",
              "      <td>79</td>\n",
              "      <td>232533</td>\n",
              "      <td>0.872</td>\n",
              "      <td>0.657</td>\n",
              "      <td>0.291</td>\n",
              "      <td>0.000000</td>\n",
              "      <td>2</td>\n",
              "      <td>0.114</td>\n",
              "      <td>-10.572</td>\n",
              "      <td>1</td>\n",
              "      <td>0.0293</td>\n",
              "      <td>103.973</td>\n",
              "      <td>4</td>\n",
              "      <td>0.298</td>\n",
              "      <td>All That We Needed</td>\n",
              "      <td>00s Rock Anthems</td>\n",
              "      <td>Plain White T's - Hey There Delilah</td>\n",
              "    </tr>\n",
              "    <tr>\n",
              "      <th>18</th>\n",
              "      <td>65</td>\n",
              "      <td>209573</td>\n",
              "      <td>0.921</td>\n",
              "      <td>0.471</td>\n",
              "      <td>0.179</td>\n",
              "      <td>0.000000</td>\n",
              "      <td>9</td>\n",
              "      <td>0.101</td>\n",
              "      <td>-10.273</td>\n",
              "      <td>1</td>\n",
              "      <td>0.0890</td>\n",
              "      <td>174.273</td>\n",
              "      <td>4</td>\n",
              "      <td>0.194</td>\n",
              "      <td>Sola</td>\n",
              "      <td>100% LatinX</td>\n",
              "      <td>Jessie Reyez - Sola</td>\n",
              "    </tr>\n",
              "    <tr>\n",
              "      <th>21</th>\n",
              "      <td>77</td>\n",
              "      <td>199095</td>\n",
              "      <td>0.398</td>\n",
              "      <td>0.751</td>\n",
              "      <td>0.579</td>\n",
              "      <td>0.000023</td>\n",
              "      <td>2</td>\n",
              "      <td>0.133</td>\n",
              "      <td>-4.036</td>\n",
              "      <td>1</td>\n",
              "      <td>0.0321</td>\n",
              "      <td>105.031</td>\n",
              "      <td>4</td>\n",
              "      <td>0.349</td>\n",
              "      <td>Havana (Remix)</td>\n",
              "      <td>100% LatinX</td>\n",
              "      <td>Camila Cabello - Havana - Remix</td>\n",
              "    </tr>\n",
              "    <tr>\n",
              "      <th>45</th>\n",
              "      <td>77</td>\n",
              "      <td>288333</td>\n",
              "      <td>0.575</td>\n",
              "      <td>0.624</td>\n",
              "      <td>0.653</td>\n",
              "      <td>0.000000</td>\n",
              "      <td>8</td>\n",
              "      <td>0.104</td>\n",
              "      <td>-6.582</td>\n",
              "      <td>0</td>\n",
              "      <td>0.1760</td>\n",
              "      <td>73.884</td>\n",
              "      <td>4</td>\n",
              "      <td>0.565</td>\n",
              "      <td>Justified</td>\n",
              "      <td>2000s Smash Hits</td>\n",
              "      <td>Justin Timberlake - Cry Me a River</td>\n",
              "    </tr>\n",
              "    <tr>\n",
              "      <th>47</th>\n",
              "      <td>74</td>\n",
              "      <td>221360</td>\n",
              "      <td>0.407</td>\n",
              "      <td>0.530</td>\n",
              "      <td>0.422</td>\n",
              "      <td>0.000000</td>\n",
              "      <td>5</td>\n",
              "      <td>0.107</td>\n",
              "      <td>-6.262</td>\n",
              "      <td>1</td>\n",
              "      <td>0.0342</td>\n",
              "      <td>119.964</td>\n",
              "      <td>4</td>\n",
              "      <td>0.349</td>\n",
              "      <td>Bangerz (Deluxe Version)</td>\n",
              "      <td>2000s Smash Hits</td>\n",
              "      <td>Miley Cyrus - Wrecking Ball</td>\n",
              "    </tr>\n",
              "  </tbody>\n",
              "</table>\n",
              "</div>"
            ],
            "text/plain": [
              "    song_popularity  ...                Artist_and_Track_Name\n",
              "6                79  ...  Plain White T's - Hey There Delilah\n",
              "18               65  ...                  Jessie Reyez - Sola\n",
              "21               77  ...      Camila Cabello - Havana - Remix\n",
              "45               77  ...   Justin Timberlake - Cry Me a River\n",
              "47               74  ...          Miley Cyrus - Wrecking Ball\n",
              "\n",
              "[5 rows x 17 columns]"
            ]
          },
          "metadata": {
            "tags": []
          },
          "execution_count": 115
        }
      ]
    },
    {
      "cell_type": "code",
      "metadata": {
        "id": "Xj_KWUrb2FTy",
        "colab_type": "code",
        "colab": {
          "base_uri": "https://localhost:8080/",
          "height": 138
        },
        "outputId": "8c7cfa5e-fe1c-4b31-fe05-f6e5c4e49b54"
      },
      "source": [
        "songs1[songs1['label'] == 1].mean()\n"
      ],
      "execution_count": 111,
      "outputs": [
        {
          "output_type": "execute_result",
          "data": {
            "text/plain": [
              "acousticness    0.582776\n",
              "danceability    0.605881\n",
              "liveness        0.154818\n",
              "loudness        0.709534\n",
              "speechiness     0.085834\n",
              "label           1.000000\n",
              "dtype: float64"
            ]
          },
          "metadata": {
            "tags": []
          },
          "execution_count": 111
        }
      ]
    },
    {
      "cell_type": "code",
      "metadata": {
        "colab_type": "code",
        "id": "zH7PCvSh2YX4",
        "outputId": "c78ac428-10c8-4d76-a070-98ce0a5cd863",
        "colab": {
          "base_uri": "https://localhost:8080/",
          "height": 410
        }
      },
      "source": [
        "spotify_ML[songs1['label'] == 2].tail()\n",
        "\n",
        "#Chill and Reflect"
      ],
      "execution_count": 77,
      "outputs": [
        {
          "output_type": "stream",
          "text": [
            "/usr/local/lib/python3.6/dist-packages/ipykernel_launcher.py:1: UserWarning: Boolean Series key will be reindexed to match DataFrame index.\n",
            "  \"\"\"Entry point for launching an IPython kernel.\n"
          ],
          "name": "stderr"
        },
        {
          "output_type": "execute_result",
          "data": {
            "text/html": [
              "<div>\n",
              "<style scoped>\n",
              "    .dataframe tbody tr th:only-of-type {\n",
              "        vertical-align: middle;\n",
              "    }\n",
              "\n",
              "    .dataframe tbody tr th {\n",
              "        vertical-align: top;\n",
              "    }\n",
              "\n",
              "    .dataframe thead th {\n",
              "        text-align: right;\n",
              "    }\n",
              "</style>\n",
              "<table border=\"1\" class=\"dataframe\">\n",
              "  <thead>\n",
              "    <tr style=\"text-align: right;\">\n",
              "      <th></th>\n",
              "      <th>song_popularity</th>\n",
              "      <th>song_duration_ms</th>\n",
              "      <th>acousticness</th>\n",
              "      <th>danceability</th>\n",
              "      <th>energy</th>\n",
              "      <th>instrumentalness</th>\n",
              "      <th>key</th>\n",
              "      <th>liveness</th>\n",
              "      <th>loudness</th>\n",
              "      <th>audio_mode</th>\n",
              "      <th>speechiness</th>\n",
              "      <th>tempo</th>\n",
              "      <th>time_signature</th>\n",
              "      <th>audio_valence</th>\n",
              "      <th>album_names</th>\n",
              "      <th>playlist</th>\n",
              "      <th>Artist_and_Track_Name</th>\n",
              "    </tr>\n",
              "  </thead>\n",
              "  <tbody>\n",
              "    <tr>\n",
              "      <th>2533</th>\n",
              "      <td>63</td>\n",
              "      <td>235306</td>\n",
              "      <td>0.00931</td>\n",
              "      <td>0.786</td>\n",
              "      <td>0.689</td>\n",
              "      <td>0.000001</td>\n",
              "      <td>1</td>\n",
              "      <td>0.214</td>\n",
              "      <td>-6.113</td>\n",
              "      <td>1</td>\n",
              "      <td>0.3150</td>\n",
              "      <td>157.935</td>\n",
              "      <td>4</td>\n",
              "      <td>0.874</td>\n",
              "      <td>T-Pain Presents Happy Hour: The Greatest Hits</td>\n",
              "      <td>Workout Twerkout</td>\n",
              "      <td>T-Pain - Booty Wurk (One Cheek At a Time)</td>\n",
              "    </tr>\n",
              "    <tr>\n",
              "      <th>2534</th>\n",
              "      <td>66</td>\n",
              "      <td>231893</td>\n",
              "      <td>0.27200</td>\n",
              "      <td>0.763</td>\n",
              "      <td>0.530</td>\n",
              "      <td>0.000000</td>\n",
              "      <td>5</td>\n",
              "      <td>0.160</td>\n",
              "      <td>-5.554</td>\n",
              "      <td>0</td>\n",
              "      <td>0.0577</td>\n",
              "      <td>97.033</td>\n",
              "      <td>4</td>\n",
              "      <td>0.469</td>\n",
              "      <td>Up Down (Do This All Day)</td>\n",
              "      <td>Workout Twerkout</td>\n",
              "      <td>T-Pain - Up Down (Do This All Day)</td>\n",
              "    </tr>\n",
              "    <tr>\n",
              "      <th>2535</th>\n",
              "      <td>57</td>\n",
              "      <td>220714</td>\n",
              "      <td>0.11800</td>\n",
              "      <td>0.818</td>\n",
              "      <td>0.675</td>\n",
              "      <td>0.000017</td>\n",
              "      <td>11</td>\n",
              "      <td>0.262</td>\n",
              "      <td>-4.176</td>\n",
              "      <td>1</td>\n",
              "      <td>0.0655</td>\n",
              "      <td>139.977</td>\n",
              "      <td>4</td>\n",
              "      <td>0.470</td>\n",
              "      <td>Work Hard, Play Hard</td>\n",
              "      <td>Workout Twerkout</td>\n",
              "      <td>Wiz Khalifa - Work Hard, Play Hard</td>\n",
              "    </tr>\n",
              "    <tr>\n",
              "      <th>2536</th>\n",
              "      <td>62</td>\n",
              "      <td>260224</td>\n",
              "      <td>0.02560</td>\n",
              "      <td>0.892</td>\n",
              "      <td>0.460</td>\n",
              "      <td>0.000000</td>\n",
              "      <td>1</td>\n",
              "      <td>0.147</td>\n",
              "      <td>-7.814</td>\n",
              "      <td>1</td>\n",
              "      <td>0.0997</td>\n",
              "      <td>136.964</td>\n",
              "      <td>4</td>\n",
              "      <td>0.093</td>\n",
              "      <td>Culture II</td>\n",
              "      <td>Workout Twerkout</td>\n",
              "      <td>Migos - Beast</td>\n",
              "    </tr>\n",
              "    <tr>\n",
              "      <th>2541</th>\n",
              "      <td>89</td>\n",
              "      <td>201707</td>\n",
              "      <td>0.09560</td>\n",
              "      <td>0.708</td>\n",
              "      <td>0.648</td>\n",
              "      <td>0.000000</td>\n",
              "      <td>6</td>\n",
              "      <td>0.134</td>\n",
              "      <td>-5.626</td>\n",
              "      <td>1</td>\n",
              "      <td>0.0449</td>\n",
              "      <td>143.955</td>\n",
              "      <td>4</td>\n",
              "      <td>0.338</td>\n",
              "      <td>Love Lies (with Normani)</td>\n",
              "      <td>Young &amp; Free</td>\n",
              "      <td>Khalid - Love Lies (with Normani)</td>\n",
              "    </tr>\n",
              "  </tbody>\n",
              "</table>\n",
              "</div>"
            ],
            "text/plain": [
              "      song_popularity  ...                      Artist_and_Track_Name\n",
              "2533               63  ...  T-Pain - Booty Wurk (One Cheek At a Time)\n",
              "2534               66  ...         T-Pain - Up Down (Do This All Day)\n",
              "2535               57  ...         Wiz Khalifa - Work Hard, Play Hard\n",
              "2536               62  ...                              Migos - Beast\n",
              "2541               89  ...          Khalid - Love Lies (with Normani)\n",
              "\n",
              "[5 rows x 17 columns]"
            ]
          },
          "metadata": {
            "tags": []
          },
          "execution_count": 77
        }
      ]
    },
    {
      "cell_type": "code",
      "metadata": {
        "id": "lHEqR96D2vEM",
        "colab_type": "code",
        "colab": {
          "base_uri": "https://localhost:8080/",
          "height": 138
        },
        "outputId": "a3d2ad2c-3391-43ae-a08e-00319dea0eec"
      },
      "source": [
        "songs1[songs1['label'] == 2].mean()"
      ],
      "execution_count": 112,
      "outputs": [
        {
          "output_type": "execute_result",
          "data": {
            "text/plain": [
              "acousticness    0.096577\n",
              "danceability    0.645892\n",
              "liveness        0.430840\n",
              "loudness        0.810649\n",
              "speechiness     0.135008\n",
              "label           2.000000\n",
              "dtype: float64"
            ]
          },
          "metadata": {
            "tags": []
          },
          "execution_count": 112
        }
      ]
    },
    {
      "cell_type": "code",
      "metadata": {
        "colab_type": "code",
        "id": "Smt3eaj-HRmB",
        "colab": {}
      },
      "source": [
        "\n",
        "def plot_confusion_matrix(y_true, y_pred, classes,\n",
        "                          normalize=False,\n",
        "                          title=None,\n",
        "                          cmap=plt.cm.Blues):\n",
        "    \"\"\"\n",
        "    This function prints and plots the confusion matrix.\n",
        "    Normalization can be applied by setting `normalize=True`.\n",
        "    \"\"\"\n",
        "    if not title:\n",
        "        if normalize:\n",
        "            title = 'Normalized confusion matrix'\n",
        "        else:\n",
        "            title = 'Confusion matrix'\n",
        "\n",
        "    # Compute confusion matrix\n",
        "    cm = confusion_matrix(y_true, y_pred)\n",
        "    # Only use the labels that appear in the data\n",
        "    if normalize:\n",
        "        cm = cm.astype('float') / cm.sum(axis=1)[:, np.newaxis]\n",
        "        print(\"Normalized confusion matrix\")\n",
        "    else:\n",
        "        print('Confusion matrix, without normalization')\n",
        "\n",
        "    print(cm)\n",
        "\n",
        "    fig, ax = plt.subplots()\n",
        "    im = ax.imshow(cm, interpolation='nearest', cmap=cmap)\n",
        "    ax.figure.colorbar(im, ax=ax)\n",
        "    # We want to show all ticks...\n",
        "    ax.set(xticks=np.arange(cm.shape[1]),\n",
        "           yticks=np.arange(cm.shape[0]),\n",
        "           # ... and label them with the respective list entries\n",
        "           xticklabels=classes, yticklabels=classes,\n",
        "           title=title,\n",
        "           ylabel='True label',\n",
        "           xlabel='Predicted label')\n",
        "\n",
        "    # Rotate the tick labels and set their alignment.\n",
        "    plt.setp(ax.get_xticklabels(), rotation=45, ha=\"right\",\n",
        "             rotation_mode=\"anchor\")\n",
        "\n",
        "    # Loop over data dimensions and create text annotations.\n",
        "    fmt = '.2f' if normalize else 'd'\n",
        "    thresh = cm.max() / 2.\n",
        "    for i in range(cm.shape[0]):\n",
        "        for j in range(cm.shape[1]):\n",
        "            ax.text(j, i, format(cm[i, j], fmt),\n",
        "                    ha=\"center\", va=\"center\",\n",
        "                    color=\"white\" if cm[i, j] > thresh else \"black\")\n",
        "    fig.tight_layout()\n",
        "    return ax"
      ],
      "execution_count": 0,
      "outputs": []
    },
    {
      "cell_type": "code",
      "metadata": {
        "colab_type": "code",
        "id": "p2pYbshkKuxG",
        "colab": {}
      },
      "source": [
        "# Confusion matrix\n",
        "definitions = ['Energetic','Aspiring Singer','Relaxed']\n",
        "\n"
      ],
      "execution_count": 0,
      "outputs": []
    },
    {
      "cell_type": "code",
      "metadata": {
        "colab_type": "code",
        "id": "C7faOOWDLJyU",
        "outputId": "cf81a22e-f364-4abd-fb40-999ce5753e05",
        "scrolled": true,
        "colab": {
          "base_uri": "https://localhost:8080/",
          "height": 69
        }
      },
      "source": [
        "from sklearn.neighbors import KNeighborsClassifier\n",
        "from sklearn.model_selection import train_test_split\n",
        "from sklearn.model_selection import cross_val_score\n",
        "from sklearn.metrics import classification_report, confusion_matrix\n",
        "from sklearn.utils.multiclass import unique_labels\n",
        "\n",
        "X = songs_features\n",
        "y = y_kmeans\n",
        "\n",
        "X_train, X_test, y_train, y_test = train_test_split(X, y, test_size=0.33)\n",
        "\n",
        "knn = KNeighborsClassifier(n_neighbors=3)\n",
        "# Train the model using the training sets\n",
        "knn.fit(X_train,y_train)"
      ],
      "execution_count": 81,
      "outputs": [
        {
          "output_type": "execute_result",
          "data": {
            "text/plain": [
              "KNeighborsClassifier(algorithm='auto', leaf_size=30, metric='minkowski',\n",
              "                     metric_params=None, n_jobs=None, n_neighbors=3, p=2,\n",
              "                     weights='uniform')"
            ]
          },
          "metadata": {
            "tags": []
          },
          "execution_count": 81
        }
      ]
    },
    {
      "cell_type": "code",
      "metadata": {
        "id": "4nJUBNhwdoXo",
        "colab_type": "code",
        "colab": {}
      },
      "source": [
        "knn_pred =knn.predict(X_test)"
      ],
      "execution_count": 0,
      "outputs": []
    },
    {
      "cell_type": "code",
      "metadata": {
        "id": "8hltv2X4doXq",
        "colab_type": "code",
        "colab": {
          "base_uri": "https://localhost:8080/",
          "height": 573
        },
        "outputId": "3542660f-97ff-4289-b41f-9da1a30ef38e"
      },
      "source": [
        "plot_confusion_matrix(y_test, knn_pred, classes=definitions,\n",
        "                      title='Confusion matrix for KNN')"
      ],
      "execution_count": 83,
      "outputs": [
        {
          "output_type": "stream",
          "text": [
            "Confusion matrix, without normalization\n",
            "[[167   2  11]\n",
            " [  1 133   5]\n",
            " [  3   3 515]]\n"
          ],
          "name": "stdout"
        },
        {
          "output_type": "execute_result",
          "data": {
            "text/plain": [
              "<matplotlib.axes._subplots.AxesSubplot at 0x7f48314f1780>"
            ]
          },
          "metadata": {
            "tags": []
          },
          "execution_count": 83
        },
        {
          "output_type": "display_data",
          "data": {
            "image/png": "[encoded data removed]",
            "text/plain": [
              "<Figure size 640x480 with 2 Axes>"
            ]
          },
          "metadata": {
            "tags": []
          }
        }
      ]
    },
    {
      "cell_type": "code",
      "metadata": {
        "colab_type": "code",
        "id": "FWzatXEyHVhp",
        "outputId": "536f0d8e-9fb3-4a10-d3fe-2a903eaed5a3",
        "colab": {
          "base_uri": "https://localhost:8080/",
          "height": 189
        }
      },
      "source": [
        "\n",
        "print(classification_report(y_test,knn_pred,target_names=definitions)+'KNN')"
      ],
      "execution_count": 84,
      "outputs": [
        {
          "output_type": "stream",
          "text": [
            "                 precision    recall  f1-score   support\n",
            "\n",
            "      Energetic       0.98      0.93      0.95       180\n",
            "Aspiring Singer       0.96      0.96      0.96       139\n",
            "        Relaxed       0.97      0.99      0.98       521\n",
            "\n",
            "       accuracy                           0.97       840\n",
            "      macro avg       0.97      0.96      0.96       840\n",
            "   weighted avg       0.97      0.97      0.97       840\n",
            "KNN\n"
          ],
          "name": "stdout"
        }
      ]
    },
    {
      "cell_type": "code",
      "metadata": {
        "colab_type": "code",
        "id": "unGL3MDiPcHs",
        "colab": {}
      },
      "source": [
        ""
      ],
      "execution_count": 0,
      "outputs": []
    }
  ]
}